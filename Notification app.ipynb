{
 "cells": [
  {
   "cell_type": "code",
   "execution_count": 2,
   "id": "1ef5a664-bf93-4b42-9c5d-f45de502ccfd",
   "metadata": {},
   "outputs": [],
   "source": [
    "from plyer import notification\n",
    "\n",
    "title = \"Notification Title\"\n",
    "message = \"Your OTP is : 57657\" \n",
    "\n",
    "notification.notify(\n",
    "    title = title,\n",
    "    message = message,\n",
    "    app_name = \"Python Application\",\n",
    "    timeout = 10 # dissapear in 10sec\n",
    ")"
   ]
  },
  {
   "cell_type": "code",
   "execution_count": null,
   "id": "03c9cfa8-5554-42ea-b876-629f0bd18238",
   "metadata": {},
   "outputs": [],
   "source": []
  }
 ],
 "metadata": {
  "kernelspec": {
   "display_name": "Python 3 (ipykernel)",
   "language": "python",
   "name": "python3"
  },
  "language_info": {
   "codemirror_mode": {
    "name": "ipython",
    "version": 3
   },
   "file_extension": ".py",
   "mimetype": "text/x-python",
   "name": "python",
   "nbconvert_exporter": "python",
   "pygments_lexer": "ipython3",
   "version": "3.13.5"
  }
 },
 "nbformat": 4,
 "nbformat_minor": 5
}
