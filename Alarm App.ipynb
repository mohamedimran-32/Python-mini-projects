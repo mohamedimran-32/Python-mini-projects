{
 "cells": [
  {
   "cell_type": "code",
   "execution_count": 8,
   "id": "c2483978-5fb5-4639-8920-78dfaaa74959",
   "metadata": {},
   "outputs": [
    {
     "name": "stdout",
     "output_type": "stream",
     "text": [
      "10:42:21\n"
     ]
    },
    {
     "name": "stdin",
     "output_type": "stream",
     "text": [
      "Enter your wake up time(HH:MM): 10:42:50\n"
     ]
    },
    {
     "name": "stdout",
     "output_type": "stream",
     "text": [
      "Wake up !!\n"
     ]
    }
   ],
   "source": [
    "import time\n",
    "\n",
    "print(time.strftime(\"%H:%M:%S\"))\n",
    "alarm_time = input(\"Enter your wake up time(HH:MM:SS):\")\n",
    "while time.strftime(\"%H:%M:%S\") != alarm_time:\n",
    "    time.sleep(1)\n",
    "print(\"Wake up !!\")"
   ]
  },
  {
   "cell_type": "code",
   "execution_count": null,
   "id": "475a2e0e-61f7-4061-8559-10459d2634ce",
   "metadata": {},
   "outputs": [],
   "source": []
  }
 ],
 "metadata": {
  "kernelspec": {
   "display_name": "Python 3 (ipykernel)",
   "language": "python",
   "name": "python3"
  },
  "language_info": {
   "codemirror_mode": {
    "name": "ipython",
    "version": 3
   },
   "file_extension": ".py",
   "mimetype": "text/x-python",
   "name": "python",
   "nbconvert_exporter": "python",
   "pygments_lexer": "ipython3",
   "version": "3.13.5"
  }
 },
 "nbformat": 4,
 "nbformat_minor": 5
}
