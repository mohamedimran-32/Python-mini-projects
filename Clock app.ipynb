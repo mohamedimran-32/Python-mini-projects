{
 "cells": [
  {
   "cell_type": "code",
   "execution_count": 4,
   "id": "91102a33-d906-4590-880f-428a96c2c539",
   "metadata": {},
   "outputs": [],
   "source": [
    "import tkinter as tk\n",
    "from time import strftime\n",
    "\n",
    "root = tk.Tk()\n",
    "root.title(\"clock🕒\") \n",
    "\n",
    "def time():\n",
    "    string = strftime(\"%H:%M:%S:%p\")\n",
    "    label.config(text=string)\n",
    "    label.after(1000,time)\n",
    "\n",
    "\n",
    "label = tk.Label(root, font=(\"calibri\", 40, \"bold\"), background=\"white\", foreground=\"black\")\n",
    "label.pack(anchor='center')\n",
    "\n",
    "time()\n",
    "root.mainloop()"
   ]
  },
  {
   "cell_type": "code",
   "execution_count": null,
   "id": "efc13cf0-26ac-479f-9fff-9ba8684de8c7",
   "metadata": {},
   "outputs": [],
   "source": [
    "# GY window"
   ]
  },
  {
   "cell_type": "code",
   "execution_count": null,
   "id": "e1789130-8e72-46bd-a1c0-13286eae2c31",
   "metadata": {},
   "outputs": [],
   "source": []
  },
  {
   "cell_type": "code",
   "execution_count": 3,
   "id": "a640ac5c-38ca-4158-83c8-6a937677c944",
   "metadata": {},
   "outputs": [],
   "source": [
    "import tkinter as tk\n",
    "\n",
    "root = tk.Tk()\n",
    "root.title(\"My First GUI\")\n",
    "\n",
    "label = tk.Label(root, text=\"Hello! I am a GUI app.\", font=(\"Arial\", 20))\n",
    "label.pack(pady=20)\n",
    "\n",
    "button = tk.Button(root, text=\"Close\", command=root.destroy)\n",
    "button.pack()\n",
    "\n",
    "root.mainloop()"
   ]
  },
  {
   "cell_type": "code",
   "execution_count": null,
   "id": "b3a150ba-5f94-4683-aa43-487d01a03746",
   "metadata": {},
   "outputs": [],
   "source": []
  }
 ],
 "metadata": {
  "kernelspec": {
   "display_name": "Python 3 (ipykernel)",
   "language": "python",
   "name": "python3"
  },
  "language_info": {
   "codemirror_mode": {
    "name": "ipython",
    "version": 3
   },
   "file_extension": ".py",
   "mimetype": "text/x-python",
   "name": "python",
   "nbconvert_exporter": "python",
   "pygments_lexer": "ipython3",
   "version": "3.13.5"
  }
 },
 "nbformat": 4,
 "nbformat_minor": 5
}
