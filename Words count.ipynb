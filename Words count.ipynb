{
 "cells": [
  {
   "cell_type": "code",
   "execution_count": null,
   "id": "6d7c5e38-e69d-4c26-95f8-573123765946",
   "metadata": {},
   "outputs": [],
   "source": [
    "# It will count how manytimes words appears "
   ]
  },
  {
   "cell_type": "code",
   "execution_count": 6,
   "id": "0a6bb3f5-eb4c-40c6-8d4c-0b0d4cad3c9f",
   "metadata": {},
   "outputs": [
    {
     "name": "stdout",
     "output_type": "stream",
     "text": [
      "Counter({'Text': 2, 'Your': 1, 'input': 1, 'goes': 1, 'here': 1, 'replace': 1, 'this': 1, 'with': 1, 'your': 1})\n"
     ]
    }
   ],
   "source": [
    "from collections import Counter\n",
    "\n",
    "text = \"Your input Text goes here replace this with your text\"\n",
    "word_counts = Counter(text.split())\n",
    "print(word_counts)"
   ]
  },
  {
   "cell_type": "code",
   "execution_count": null,
   "id": "2eab2f50-f156-48e0-b03e-a88c5756aca0",
   "metadata": {},
   "outputs": [],
   "source": []
  }
 ],
 "metadata": {
  "kernelspec": {
   "display_name": "Python 3 (ipykernel)",
   "language": "python",
   "name": "python3"
  },
  "language_info": {
   "codemirror_mode": {
    "name": "ipython",
    "version": 3
   },
   "file_extension": ".py",
   "mimetype": "text/x-python",
   "name": "python",
   "nbconvert_exporter": "python",
   "pygments_lexer": "ipython3",
   "version": "3.13.5"
  }
 },
 "nbformat": 4,
 "nbformat_minor": 5
}
