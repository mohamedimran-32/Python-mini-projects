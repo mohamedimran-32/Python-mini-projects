{
 "cells": [
  {
   "cell_type": "code",
   "execution_count": 14,
   "id": "b68c6a5e-9754-40ac-90c5-f0b51ae98ff6",
   "metadata": {},
   "outputs": [
    {
     "name": "stdin",
     "output_type": "stream",
     "text": [
      "Enter the Number:  4\n"
     ]
    },
    {
     "name": "stdout",
     "output_type": "stream",
     "text": [
      "Geemthapaku thamtham => 9\n",
      "Try Higher\n"
     ]
    },
    {
     "name": "stdin",
     "output_type": "stream",
     "text": [
      "Enter the Number:  9\n"
     ]
    },
    {
     "name": "stdout",
     "output_type": "stream",
     "text": [
      "Geemthapaku thamtham => 9\n",
      "Congratulations! you guessed it in 2 attempts\n"
     ]
    }
   ],
   "source": [
    "import random\n",
    "\n",
    "random_number = random.randint(1,10)\n",
    "attempt = 0\n",
    "\n",
    "while True:\n",
    "    guess = int(input(\"Enter the Number: \"))\n",
    "    attempt +=1\n",
    "    # print(f\"Geemthapaku thamtham => {random_number}\")\n",
    "\n",
    "    if guess == random_number:\n",
    "        print(f\"Congratulations! you guessed it in {attempt} attempts\")\n",
    "        break\n",
    "        \n",
    "    elif guess < random_number:\n",
    "        print(\"Try Higher\")\n",
    "\n",
    "    else:\n",
    "        print(\"Try lower\")"
   ]
  },
  {
   "cell_type": "code",
   "execution_count": null,
   "id": "061c3f63-0480-47f9-b53e-c7d8b4794ddd",
   "metadata": {},
   "outputs": [],
   "source": []
  },
  {
   "cell_type": "code",
   "execution_count": null,
   "id": "2336b18a-d8c9-4bf8-bb80-8bb26d1547db",
   "metadata": {},
   "outputs": [],
   "source": []
  }
 ],
 "metadata": {
  "kernelspec": {
   "display_name": "Python 3 (ipykernel)",
   "language": "python",
   "name": "python3"
  },
  "language_info": {
   "codemirror_mode": {
    "name": "ipython",
    "version": 3
   },
   "file_extension": ".py",
   "mimetype": "text/x-python",
   "name": "python",
   "nbconvert_exporter": "python",
   "pygments_lexer": "ipython3",
   "version": "3.13.5"
  }
 },
 "nbformat": 4,
 "nbformat_minor": 5
}
