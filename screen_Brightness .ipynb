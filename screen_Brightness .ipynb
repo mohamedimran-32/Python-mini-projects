{
 "cells": [
  {
   "cell_type": "code",
   "execution_count": 10,
   "id": "8fa14a4a-be09-45f9-a784-28b3ff5425dc",
   "metadata": {},
   "outputs": [
    {
     "name": "stdout",
     "output_type": "stream",
     "text": [
      "[40]\n"
     ]
    }
   ],
   "source": [
    "#import the module\n",
    "import screen_brightness_control as sbc\n",
    "\n",
    "#get current brightness value\n",
    "print(sbc.get_brightness())\n",
    "\n",
    "#set the brightness\n",
    "sbc.set_brightness(75, display=1)"
   ]
  },
  {
   "cell_type": "code",
   "execution_count": null,
   "id": "2f01498d-5999-4047-8c19-85cc2e8199e8",
   "metadata": {},
   "outputs": [],
   "source": []
  }
 ],
 "metadata": {
  "kernelspec": {
   "display_name": "Python 3 (ipykernel)",
   "language": "python",
   "name": "python3"
  },
  "language_info": {
   "codemirror_mode": {
    "name": "ipython",
    "version": 3
   },
   "file_extension": ".py",
   "mimetype": "text/x-python",
   "name": "python",
   "nbconvert_exporter": "python",
   "pygments_lexer": "ipython3",
   "version": "3.13.5"
  }
 },
 "nbformat": 4,
 "nbformat_minor": 5
}
