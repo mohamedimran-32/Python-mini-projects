{
 "cells": [
  {
   "cell_type": "code",
   "execution_count": 1,
   "id": "899f50aa-e2d9-4c1f-9a2a-a4191f9aec0f",
   "metadata": {},
   "outputs": [],
   "source": [
    "from textblob import Word"
   ]
  },
  {
   "cell_type": "code",
   "execution_count": 2,
   "id": "21dfe0c7-eba0-4bce-8e89-21fa04757edd",
   "metadata": {},
   "outputs": [
    {
     "name": "stdin",
     "output_type": "stream",
     "text": [
      "enter your text : hii da mapla\n"
     ]
    },
    {
     "name": "stdout",
     "output_type": "stream",
     "text": [
      "his da mala\n"
     ]
    }
   ],
   "source": [
    "text = input(\"enter your text :\")\n",
    "corrected_text = \" \".join(Word(word).correct() for word in text.split())\n",
    "print(corrected_text)"
   ]
  },
  {
   "cell_type": "code",
   "execution_count": 5,
   "id": "f973a25d-eb59-4599-8a22-db3471032f31",
   "metadata": {},
   "outputs": [
    {
     "name": "stdin",
     "output_type": "stream",
     "text": [
      "enter your text : hidv zvddshvb\n"
     ]
    },
    {
     "ename": "TypeError",
     "evalue": "Word.correct() missing 1 required positional argument: 'self'",
     "output_type": "error",
     "traceback": [
      "\u001b[31m---------------------------------------------------------------------------\u001b[39m",
      "\u001b[31mTypeError\u001b[39m                                 Traceback (most recent call last)",
      "\u001b[36mCell\u001b[39m\u001b[36m \u001b[39m\u001b[32mIn[5]\u001b[39m\u001b[32m, line 2\u001b[39m\n\u001b[32m      1\u001b[39m text = \u001b[38;5;28minput\u001b[39m(\u001b[33m\"\u001b[39m\u001b[33menter your text :\u001b[39m\u001b[33m\"\u001b[39m)\n\u001b[32m----> \u001b[39m\u001b[32m2\u001b[39m corrected_text = \u001b[33m\"\u001b[39m\u001b[33m \u001b[39m\u001b[33m\"\u001b[39m.join(\u001b[43mWord\u001b[49m\u001b[43m.\u001b[49m\u001b[43mcorrect\u001b[49m\u001b[43m(\u001b[49m\u001b[43m)\u001b[49m)\n\u001b[32m      3\u001b[39m \u001b[38;5;28mprint\u001b[39m(corrected_text)\n",
      "\u001b[31mTypeError\u001b[39m: Word.correct() missing 1 required positional argument: 'self'"
     ]
    }
   ],
   "source": [
    "text = input(\"enter your text :\")\n",
    "corrected_text = \" \".join(Word.correct())\n",
    "print(corrected_text)"
   ]
  },
  {
   "cell_type": "code",
   "execution_count": null,
   "id": "54e60a51-73c9-4cc3-af27-ee722cc3e2c6",
   "metadata": {},
   "outputs": [],
   "source": []
  }
 ],
 "metadata": {
  "kernelspec": {
   "display_name": "Python 3 (ipykernel)",
   "language": "python",
   "name": "python3"
  },
  "language_info": {
   "codemirror_mode": {
    "name": "ipython",
    "version": 3
   },
   "file_extension": ".py",
   "mimetype": "text/x-python",
   "name": "python",
   "nbconvert_exporter": "python",
   "pygments_lexer": "ipython3",
   "version": "3.13.5"
  }
 },
 "nbformat": 4,
 "nbformat_minor": 5
}
