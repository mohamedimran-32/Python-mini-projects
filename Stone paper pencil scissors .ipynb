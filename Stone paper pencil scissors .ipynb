{
 "cells": [
  {
   "cell_type": "code",
   "execution_count": 8,
   "id": "36289bd7-a781-42ae-a0cb-aeb5767fc8fc",
   "metadata": {},
   "outputs": [
    {
     "name": "stdin",
     "output_type": "stream",
     "text": [
      "Choose: rock, paper, scissors =>  rock\n"
     ]
    },
    {
     "name": "stdout",
     "output_type": "stream",
     "text": [
      "Computer => paper\n",
      "computer_win!\n"
     ]
    }
   ],
   "source": [
    "import random\n",
    "\n",
    "choices = ['rock','paper', 'scissors']\n",
    "computer_choice = random.choice(choices)\n",
    "player_choice = input(\"Choose: rock, paper, scissors => \").lower()\n",
    "print(f\"Computer => {computer_choice}\")\n",
    "\n",
    "if player_choice in choices:\n",
    "    if player_choice == computer_choice:\n",
    "        print(\"It's a tie !\")\n",
    "    elif (\n",
    "        (player_choice == 'rock' and computer_choice == 'scissors') or\n",
    "        (player_choice == 'paper' and computer_choice == 'rock') or\n",
    "        (player_choice == 'scissors' and computer_choice == 'paper')\n",
    "    ):\n",
    "        print(\"You win!\")\n",
    "\n",
    "    else:\n",
    "        print(\"computer_win!\")\n",
    "else:\n",
    "    print(\"Please Enter Valid choice\")"
   ]
  },
  {
   "cell_type": "code",
   "execution_count": null,
   "id": "2c2259c6-1b2a-4d7d-8d78-dc15f1db42e7",
   "metadata": {},
   "outputs": [],
   "source": []
  }
 ],
 "metadata": {
  "kernelspec": {
   "display_name": "Python 3 (ipykernel)",
   "language": "python",
   "name": "python3"
  },
  "language_info": {
   "codemirror_mode": {
    "name": "ipython",
    "version": 3
   },
   "file_extension": ".py",
   "mimetype": "text/x-python",
   "name": "python",
   "nbconvert_exporter": "python",
   "pygments_lexer": "ipython3",
   "version": "3.13.5"
  }
 },
 "nbformat": 4,
 "nbformat_minor": 5
}
