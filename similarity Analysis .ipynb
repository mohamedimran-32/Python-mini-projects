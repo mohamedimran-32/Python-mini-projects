{
 "cells": [
  {
   "cell_type": "code",
   "execution_count": 8,
   "id": "eaa6e64b-c8fe-4521-b2cc-5a0fc7ed0274",
   "metadata": {},
   "outputs": [
    {
     "name": "stdout",
     "output_type": "stream",
     "text": [
      "similarity Ratio : 71\n"
     ]
    }
   ],
   "source": [
    "from fuzzywuzzy import fuzz\n",
    "\n",
    "\n",
    "text1 = \"This is a sample text for similarity calculation\"\n",
    "text2 = \"This one is for another similarity calculaton\"\n",
    "\n",
    "similarity_ratio = fuzz.ratio(text1,text2)\n",
    "print(f\"similarity Ratio : {similarity_ratio}\")"
   ]
  },
  {
   "cell_type": "code",
   "execution_count": null,
   "id": "6d2a8020-9f01-473f-a665-e7fee494c05a",
   "metadata": {},
   "outputs": [],
   "source": []
  }
 ],
 "metadata": {
  "kernelspec": {
   "display_name": "Python 3 (ipykernel)",
   "language": "python",
   "name": "python3"
  },
  "language_info": {
   "codemirror_mode": {
    "name": "ipython",
    "version": 3
   },
   "file_extension": ".py",
   "mimetype": "text/x-python",
   "name": "python",
   "nbconvert_exporter": "python",
   "pygments_lexer": "ipython3",
   "version": "3.13.5"
  }
 },
 "nbformat": 4,
 "nbformat_minor": 5
}
