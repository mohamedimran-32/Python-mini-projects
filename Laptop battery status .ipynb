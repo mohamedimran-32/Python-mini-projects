{
 "cells": [
  {
   "cell_type": "code",
   "execution_count": 1,
   "id": "c88189a6-c217-4d64-beaa-a0a45d822d80",
   "metadata": {},
   "outputs": [
    {
     "name": "stdout",
     "output_type": "stream",
     "text": [
      "Battery percentage:  34\n",
      "Power Plugged in:  False\n"
     ]
    }
   ],
   "source": [
    "import psutil\n",
    "\n",
    "battery = psutil.sensors_battery()\n",
    "\n",
    "#Show current battery percentage\n",
    "print(\"Battery percentage: \", battery.percent)\n",
    "\n",
    "#shows Laptop plugged or not\n",
    "print(\"Power Plugged in: \", battery.power_plugged)"
   ]
  },
  {
   "cell_type": "code",
   "execution_count": null,
   "id": "e429a90e-be17-48aa-afe5-f21e38cecf51",
   "metadata": {},
   "outputs": [],
   "source": []
  }
 ],
 "metadata": {
  "kernelspec": {
   "display_name": "Python 3 (ipykernel)",
   "language": "python",
   "name": "python3"
  },
  "language_info": {
   "codemirror_mode": {
    "name": "ipython",
    "version": 3
   },
   "file_extension": ".py",
   "mimetype": "text/x-python",
   "name": "python",
   "nbconvert_exporter": "python",
   "pygments_lexer": "ipython3",
   "version": "3.13.5"
  }
 },
 "nbformat": 4,
 "nbformat_minor": 5
}
