{
 "cells": [
  {
   "cell_type": "code",
   "execution_count": 44,
   "id": "b5ac409b-d1e4-4ca2-ae66-9661e87dab19",
   "metadata": {},
   "outputs": [
    {
     "name": "stdout",
     "output_type": "stream",
     "text": [
      "Welcome :\n",
      "1. Check Balance\n",
      "2. Deposite\n",
      "3. Withdraw\n",
      "4. Exit\n"
     ]
    },
    {
     "name": "stdin",
     "output_type": "stream",
     "text": [
      "Enter your choice 2\n",
      "Enter the deposit amount: 23222\n"
     ]
    },
    {
     "name": "stdout",
     "output_type": "stream",
     "text": [
      "Deposited $23222.0. Your new balance is $24222.0\n",
      "Welcome :\n",
      "1. Check Balance\n",
      "2. Deposite\n",
      "3. Withdraw\n",
      "4. Exit\n"
     ]
    },
    {
     "name": "stdin",
     "output_type": "stream",
     "text": [
      "Enter your choice 4\n"
     ]
    },
    {
     "name": "stdout",
     "output_type": "stream",
     "text": [
      "Thanks for using the ATM. Have a nice day..!\n"
     ]
    }
   ],
   "source": [
    "class ATM:\n",
    "    def __init__(self,balance = 1000):\n",
    "        self.balance = balance\n",
    "\n",
    "    def check_balance(self):\n",
    "        return f\"Your current account balance is ${self.balance}\"\n",
    "\n",
    "    def deposit(self,amount):\n",
    "        \n",
    "        self.balance += amount\n",
    "        return f\"Deposited ${amount}. Your new balance is ${self.balance}\"\n",
    "\n",
    "    def withdraw(self, amount):\n",
    "        if amount >= self.balance:\n",
    "            self.balance -= amount\n",
    "            return f\"Sucessfully Withdraw ${amount}. Your remaining balance is ${self.balance}\"\n",
    "        else:\n",
    "            return f\"Insufficiant fund. Withdraw failed\"\n",
    "\n",
    "atm = ATM()\n",
    "\n",
    "\n",
    "while True :\n",
    "    print(\"Welcome :\")\n",
    "    \n",
    "    print(\"1. Check Balance\")\n",
    "    print(\"2. Deposite\")\n",
    "    print(\"3. Withdraw\")\n",
    "    print(\"4. Exit\")\n",
    "\n",
    "    choice = input(\"Enter your choice\")\n",
    "\n",
    "    if choice == '1':\n",
    "        print(atm.check_balance())\n",
    "    elif choice == '2':\n",
    "        amount = float(input(\"Enter the deposit amount:\"))\n",
    "        print(atm.deposit(amount))\n",
    "    elif choice == '3':\n",
    "        amount = float(input(\"Enter the Withdraw amount:\"))\n",
    "        print(atm.withdraw(amount))\n",
    "    elif choice == '4':\n",
    "        print(\"Thanks for using the ATM. Have a nice day..!\")\n",
    "        break\n",
    "    else:\n",
    "        print(\"Invalid choice. Please select a valid option.\")"
   ]
  },
  {
   "cell_type": "code",
   "execution_count": null,
   "id": "e7e8263e-5b46-4ab4-be39-39c324fb0d47",
   "metadata": {},
   "outputs": [],
   "source": []
  }
 ],
 "metadata": {
  "kernelspec": {
   "display_name": "Python 3 (ipykernel)",
   "language": "python",
   "name": "python3"
  },
  "language_info": {
   "codemirror_mode": {
    "name": "ipython",
    "version": 3
   },
   "file_extension": ".py",
   "mimetype": "text/x-python",
   "name": "python",
   "nbconvert_exporter": "python",
   "pygments_lexer": "ipython3",
   "version": "3.13.5"
  }
 },
 "nbformat": 4,
 "nbformat_minor": 5
}
