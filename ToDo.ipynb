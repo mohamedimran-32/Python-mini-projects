{
 "cells": [
  {
   "cell_type": "code",
   "execution_count": 1,
   "id": "738eaaab-eb0d-48d1-9c6a-c1102dc21bf9",
   "metadata": {},
   "outputs": [
    {
     "name": "stdout",
     "output_type": "stream",
     "text": [
      "1. Add Task\n",
      "2. Remove task\n",
      "3. List tasks\n",
      "4. Quit\n",
      "5. Show list\n"
     ]
    },
    {
     "name": "stdin",
     "output_type": "stream",
     "text": [
      "Enter your choice:  5\n"
     ]
    },
    {
     "name": "stdout",
     "output_type": "stream",
     "text": [
      "[]\n",
      "1. Add Task\n",
      "2. Remove task\n",
      "3. List tasks\n",
      "4. Quit\n",
      "5. Show list\n"
     ]
    },
    {
     "name": "stdin",
     "output_type": "stream",
     "text": [
      "Enter your choice:  4\n"
     ]
    }
   ],
   "source": [
    "#### tasks = []\n",
    "\n",
    "while True:\n",
    "    print(\"1. Add Task\")\n",
    "    print(\"2. Remove task\")\n",
    "    print(\"3. List tasks\")\n",
    "    print(\"4. Quit\")\n",
    "    print(\"5. Show list\")\n",
    "\n",
    "    choice = int(input(\"Enter your choice: \"))\n",
    "\n",
    "    if choice == 1:\n",
    "        task = input(\"Enter your tasks: \")\n",
    "        tasks.append(task)\n",
    "\n",
    "    elif choice == 2:\n",
    "        task = input(\"Enter task to remove: \")\n",
    "        if task in tasks:\n",
    "            tasks.remove(task)\n",
    "        else:\n",
    "            print(\"Task not found\")\n",
    "\n",
    "    elif choice == 3:\n",
    "        for i,task in enumerate(tasks):\n",
    "            print(f\"{i+1}.{task}\")\n",
    "    elif choice ==4:\n",
    "        break\n",
    "\n",
    "    elif choice == 5:\n",
    "        print(tasks)\n",
    "\n",
    "    else:\n",
    "        print(\"Enter valid Number\")"
   ]
  },
  {
   "cell_type": "code",
   "execution_count": 25,
   "id": "28ec0586-0410-4faa-8c41-e13ba036c767",
   "metadata": {},
   "outputs": [
    {
     "data": {
      "text/plain": [
       "[\"within one i'll learn python maximun topics\",\n",
       " \"within 1 month i'll definitely complete full stack project\"]"
      ]
     },
     "execution_count": 25,
     "metadata": {},
     "output_type": "execute_result"
    }
   ],
   "source": []
  },
  {
   "cell_type": "code",
   "execution_count": 1,
   "id": "dc2180ca-fe8b-42f6-a201-15599dccbadc",
   "metadata": {},
   "outputs": [],
   "source": [
    "tasks = [\"hii\",\"bye\",\"see you\",\"later\"]"
   ]
  },
  {
   "cell_type": "code",
   "execution_count": 6,
   "id": "7595bbd9-c237-4f24-9a3d-543d7a90253a",
   "metadata": {},
   "outputs": [
    {
     "name": "stdout",
     "output_type": "stream",
     "text": [
      "1.hii\n",
      "2.bye\n",
      "3.see you\n",
      "4.later\n"
     ]
    }
   ],
   "source": [
    "for i,task in enumerate(tasks):\n",
    "            print(f\"{i+1}.{task}\")"
   ]
  },
  {
   "cell_type": "code",
   "execution_count": null,
   "id": "6282ba54-2108-4c3b-bbb9-d28a1473047f",
   "metadata": {},
   "outputs": [],
   "source": []
  }
 ],
 "metadata": {
  "kernelspec": {
   "display_name": "Python 3 (ipykernel)",
   "language": "python",
   "name": "python3"
  },
  "language_info": {
   "codemirror_mode": {
    "name": "ipython",
    "version": 3
   },
   "file_extension": ".py",
   "mimetype": "text/x-python",
   "name": "python",
   "nbconvert_exporter": "python",
   "pygments_lexer": "ipython3",
   "version": "3.13.5"
  }
 },
 "nbformat": 4,
 "nbformat_minor": 5
}
